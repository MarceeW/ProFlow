{
 "cells": [
  {
   "cell_type": "code",
   "execution_count": 67,
   "metadata": {},
   "outputs": [],
   "source": [
    "import pandas as pd\n",
    "from sklearn.preprocessing import MultiLabelBinarizer"
   ]
  },
  {
   "cell_type": "code",
   "execution_count": 68,
   "metadata": {},
   "outputs": [
    {
     "data": {
      "text/html": [
       "<div>\n",
       "<style scoped>\n",
       "    .dataframe tbody tr th:only-of-type {\n",
       "        vertical-align: middle;\n",
       "    }\n",
       "\n",
       "    .dataframe tbody tr th {\n",
       "        vertical-align: top;\n",
       "    }\n",
       "\n",
       "    .dataframe thead th {\n",
       "        text-align: right;\n",
       "    }\n",
       "</style>\n",
       "<table border=\"1\" class=\"dataframe\">\n",
       "  <thead>\n",
       "    <tr style=\"text-align: right;\">\n",
       "      <th></th>\n",
       "      <th>storyType</th>\n",
       "      <th>storyPriority</th>\n",
       "      <th>storyTitle</th>\n",
       "      <th>storyPoints</th>\n",
       "      <th>spentHours</th>\n",
       "      <th>userPreviousSuccessRate</th>\n",
       "      <th>userAverageSpentHours</th>\n",
       "      <th>completed</th>\n",
       "      <th>userSkills</th>\n",
       "      <th>skills</th>\n",
       "      <th>tags</th>\n",
       "    </tr>\n",
       "  </thead>\n",
       "  <tbody>\n",
       "    <tr>\n",
       "      <th>0</th>\n",
       "      <td>2</td>\n",
       "      <td>1</td>\n",
       "      <td>Fix styling issues on dashboard</td>\n",
       "      <td>12</td>\n",
       "      <td>20</td>\n",
       "      <td>1.0</td>\n",
       "      <td>14.601895</td>\n",
       "      <td>False</td>\n",
       "      <td>[]</td>\n",
       "      <td>['Frontent', 'JavaScript']</td>\n",
       "      <td>['UI', 'frontend']</td>\n",
       "    </tr>\n",
       "    <tr>\n",
       "      <th>1</th>\n",
       "      <td>3</td>\n",
       "      <td>1</td>\n",
       "      <td>Resolve logout session bug</td>\n",
       "      <td>3</td>\n",
       "      <td>6</td>\n",
       "      <td>1.0</td>\n",
       "      <td>14.335423</td>\n",
       "      <td>True</td>\n",
       "      <td>['.NET']</td>\n",
       "      <td>['Backend', 'Python']</td>\n",
       "      <td>['sessions', 'critical', 'bug']</td>\n",
       "    </tr>\n",
       "  </tbody>\n",
       "</table>\n",
       "</div>"
      ],
      "text/plain": [
       "   storyType  storyPriority                       storyTitle  storyPoints  \\\n",
       "0          2              1  Fix styling issues on dashboard           12   \n",
       "1          3              1       Resolve logout session bug            3   \n",
       "\n",
       "   spentHours  userPreviousSuccessRate  userAverageSpentHours  completed  \\\n",
       "0          20                      1.0              14.601895      False   \n",
       "1           6                      1.0              14.335423       True   \n",
       "\n",
       "  userSkills                      skills                             tags  \n",
       "0         []  ['Frontent', 'JavaScript']               ['UI', 'frontend']  \n",
       "1   ['.NET']       ['Backend', 'Python']  ['sessions', 'critical', 'bug']  "
      ]
     },
     "execution_count": 68,
     "metadata": {},
     "output_type": "execute_result"
    }
   ],
   "source": [
    "df = pd.read_csv(\"stories.csv\")\n",
    "df.head(2)"
   ]
  },
  {
   "cell_type": "code",
   "execution_count": 69,
   "metadata": {},
   "outputs": [],
   "source": [
    "from sklearn.decomposition import PCA\n",
    "from gensim.models import Word2Vec\n",
    "import numpy as np"
   ]
  },
  {
   "cell_type": "code",
   "execution_count": null,
   "metadata": {},
   "outputs": [],
   "source": [
    "tags_list = df[\"tags\"].tolist()\n",
    "word2vec_model = Word2Vec(sentences=tags_list, vector_size=50, window=2, min_count=1)"
   ]
  },
  {
   "cell_type": "code",
   "execution_count": 71,
   "metadata": {},
   "outputs": [],
   "source": [
    "def aggregate_embeddings(tags, model):\n",
    "    embeddings = [model.wv[tag] for tag in tags if tag in model.wv]\n",
    "    return np.mean(embeddings, axis=0) if embeddings else np.zeros(model.vector_size)"
   ]
  },
  {
   "cell_type": "code",
   "execution_count": 72,
   "metadata": {},
   "outputs": [],
   "source": [
    "df[\"tag_embeddings\"] = df[\"tags\"].apply(lambda tags: aggregate_embeddings(tags, word2vec_model))\n",
    "tag_embeddings = pd.DataFrame(df[\"tag_embeddings\"].tolist(), \n",
    "                            columns=[f\"tag_dim_{i}\" for i in range(len(df[\"tag_embeddings\"][0]))])"
   ]
  },
  {
   "cell_type": "code",
   "execution_count": 73,
   "metadata": {},
   "outputs": [],
   "source": [
    "import hashlib"
   ]
  },
  {
   "cell_type": "code",
   "execution_count": 74,
   "metadata": {},
   "outputs": [],
   "source": [
    "def skill_col_name(col_name, is_user=False):\n",
    "    prefix = \"user_\" if is_user else \"\"\n",
    "    return f\"{prefix}skill_{hashlib.md5(col_name.encode()).hexdigest()[:8]}\""
   ]
  },
  {
   "cell_type": "code",
   "execution_count": 75,
   "metadata": {},
   "outputs": [],
   "source": [
    "mlb = MultiLabelBinarizer()\n",
    "skills_encoded = pd.DataFrame(mlb.fit_transform(df['skills']), \n",
    "                            columns=[skill_col_name(cls) for cls in mlb.classes_], \n",
    "                            index=df.index)\n",
    "\n",
    "user_skills_encoded = pd.DataFrame(mlb.fit_transform(df['userSkills']), \n",
    "                            columns=[skill_col_name(cls, True) for cls in mlb.classes_], \n",
    "                            index=df.index)"
   ]
  },
  {
   "cell_type": "code",
   "execution_count": 76,
   "metadata": {},
   "outputs": [],
   "source": [
    "from transformers import BertTokenizer, BertModel\n",
    "from torch.utils.data import DataLoader\n",
    "import torch"
   ]
  },
  {
   "cell_type": "code",
   "execution_count": 77,
   "metadata": {},
   "outputs": [],
   "source": [
    "tokenizer = BertTokenizer.from_pretrained(\"bert-base-uncased\")\n",
    "model = BertModel.from_pretrained(\"bert-base-uncased\")\n",
    "\n",
    "def get_title_embeddings(batch_size=16):\n",
    "    dataloader = DataLoader(df[\"storyTitle\"].tolist(), batch_size=batch_size)\n",
    "    embeddings = []\n",
    "    \n",
    "    for batch in dataloader:\n",
    "        inputs = tokenizer(list(batch), return_tensors=\"pt\", padding=True, truncation=True)\n",
    "        with torch.no_grad():\n",
    "            outputs = model(**inputs)\n",
    "            batch_embeddings = outputs.last_hidden_state.mean(dim=1).numpy()\n",
    "            embeddings.extend(batch_embeddings)\n",
    "            \n",
    "    pca = PCA(n_components=50)\n",
    "    reduced_embeddings = pca.fit_transform(embeddings)\n",
    "    reduced_df = pd.DataFrame(reduced_embeddings, columns=[f\"title_emb{i}\" for i in range(50)])\n",
    "    \n",
    "    return reduced_df"
   ]
  },
  {
   "cell_type": "code",
   "execution_count": 78,
   "metadata": {},
   "outputs": [],
   "source": [
    "title_embeddings = get_title_embeddings()"
   ]
  },
  {
   "cell_type": "code",
   "execution_count": 81,
   "metadata": {},
   "outputs": [],
   "source": [
    "df = pd.concat([df, title_embeddings, skills_encoded, user_skills_encoded, tag_embeddings], axis=1)\n",
    "df = df.drop(['storyTitle', 'tag_embeddings', 'skills', 'tags', 'userSkills'], axis=1)"
   ]
  },
  {
   "cell_type": "code",
   "execution_count": 83,
   "metadata": {},
   "outputs": [],
   "source": [
    "from sklearn.model_selection import train_test_split\n",
    "import lightgbm as lgb"
   ]
  },
  {
   "cell_type": "code",
   "execution_count": 84,
   "metadata": {},
   "outputs": [],
   "source": [
    "target_var = 'completed'\n",
    "\n",
    "X = df.drop(columns=[target_var])\n",
    "y = df[target_var]"
   ]
  },
  {
   "cell_type": "code",
   "execution_count": 85,
   "metadata": {},
   "outputs": [],
   "source": [
    "X_train, X_test, y_train, y_test = train_test_split(X, y, test_size=0.2, random_state=42)"
   ]
  },
  {
   "cell_type": "code",
   "execution_count": 86,
   "metadata": {},
   "outputs": [],
   "source": [
    "train_data = lgb.Dataset(X_train, label=y_train)\n",
    "test_data = lgb.Dataset(X_test, label=y_test)"
   ]
  },
  {
   "cell_type": "code",
   "execution_count": 87,
   "metadata": {},
   "outputs": [],
   "source": [
    "params = {\n",
    "    'objective': 'binary',\n",
    "    'metric': 'auc',\n",
    "    'boosting_type': 'gbdt',\n",
    "    'num_leaves': 31,\n",
    "    'learning_rate': 0.05,\n",
    "    'feature_fraction': 0.8\n",
    "}"
   ]
  },
  {
   "cell_type": "code",
   "execution_count": 88,
   "metadata": {},
   "outputs": [
    {
     "name": "stdout",
     "output_type": "stream",
     "text": [
      "[LightGBM] [Info] Number of positive: 1086, number of negative: 2959\n",
      "[LightGBM] [Info] Auto-choosing col-wise multi-threading, the overhead of testing was 0.002696 seconds.\n",
      "You can set `force_col_wise=true` to remove the overhead.\n",
      "[LightGBM] [Info] Total Bins 6788\n",
      "[LightGBM] [Info] Number of data points in the train set: 4045, number of used features: 174\n",
      "[LightGBM] [Info] [binary:BoostFromScore]: pavg=0.268480 -> initscore=-1.002350\n",
      "[LightGBM] [Info] Start training from score -1.002350\n",
      "Training until validation scores don't improve for 20 rounds\n",
      "Early stopping, best iteration is:\n",
      "[2]\ttraining's auc: 0.67975\tvalid_1's auc: 0.526101\n"
     ]
    }
   ],
   "source": [
    "model = lgb.train(\n",
    "    params,\n",
    "    train_data,\n",
    "    valid_sets=[train_data, test_data],\n",
    "    num_boost_round=100,\n",
    "    callbacks=[lgb.early_stopping(20)]\n",
    ")"
   ]
  },
  {
   "cell_type": "code",
   "execution_count": 89,
   "metadata": {},
   "outputs": [
    {
     "data": {
      "text/plain": [
       "<lightgbm.basic.Booster at 0x1fca32b00d0>"
      ]
     },
     "execution_count": 89,
     "metadata": {},
     "output_type": "execute_result"
    }
   ],
   "source": [
    "model.save_model('recommender_model.txt')"
   ]
  }
 ],
 "metadata": {
  "kernelspec": {
   "display_name": "proflow_recommender",
   "language": "python",
   "name": "python3"
  },
  "language_info": {
   "codemirror_mode": {
    "name": "ipython",
    "version": 3
   },
   "file_extension": ".py",
   "mimetype": "text/x-python",
   "name": "python",
   "nbconvert_exporter": "python",
   "pygments_lexer": "ipython3",
   "version": "3.9.20"
  }
 },
 "nbformat": 4,
 "nbformat_minor": 2
}
